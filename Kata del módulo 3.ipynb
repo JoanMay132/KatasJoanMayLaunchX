{
 "cells": [
  {
   "cell_type": "markdown",
   "metadata": {},
   "source": [
    "# Ejercicio No.1\n",
    "Para este ejercicio, escribirás una lógica condicional que imprima una advertencia si un asteroide se acerca a la Tierra demasiado rápido. La velocidad del asteroide varía dependiendo de lo cerca que esté del sol, y cualquier velocidad superior a 25 kilómetros por segundo (km/s) merece una advertencia.\n",
    "\n",
    "Un asteroide se acerca, y viaja a una velocidad de 49 km/s"
   ]
  },
  {
   "cell_type": "code",
   "execution_count": 6,
   "metadata": {},
   "outputs": [
    {
     "name": "stdout",
     "output_type": "stream",
     "text": [
      "Un asteroide se acerca!!!\n"
     ]
    }
   ],
   "source": [
    "# Añadir el código necesario para crear una variable que guarde la velocidad del asteroide.\n",
    "# Escribe una expresión de prueba para calcular si necesita una advertencia.\n",
    "# Agregue las instrucciones que se ejecutarán si la expresión de prueba es true o false.\n",
    "asteroide=49\n",
    "velocidad=25\n",
    "if asteroide>=velocidad:\n",
    "   print(\"Un asteroide se acerca!!!\")\n",
    "else:\n",
    "    print(\"No se preocupen\")"
   ]
  },
  {
   "cell_type": "markdown",
   "metadata": {},
   "source": [
    "# Ejercicio No.2\n",
    "Si un asteroide entra en la atmósfera de la Tierra a una velocidad mayor o igual a 20 km/s, a veces produce un rayo de luz que se puede ver desde la Tierra. Escribe la lógica condicional que usa declaraciones if, else, y elif para alertar a las personas de todo el mundo que deben buscar un asteroide en el cielo. ¡Hay uno que se dirige a la tierra ahora a una velocidad de 19 km/s!"
   ]
  },
  {
   "cell_type": "code",
   "execution_count": 13,
   "metadata": {},
   "outputs": [
    {
     "name": "stdout",
     "output_type": "stream",
     "text": [
      "Sigan con su día\n"
     ]
    }
   ],
   "source": [
    "asteroide=19\n",
    "if asteroide>20:\n",
    " print(\"Busquen una luz en el cielo!!\")\n",
    "elif asteroide==20:\n",
    " print(\"Busquen una luz en el cielo!!\")\n",
    "else:\n",
    "     print(\"Sigan con su día :D\")\n",
    " "
   ]
  },
  {
   "cell_type": "markdown",
   "metadata": {},
   "source": [
    "# Ejercicio No.3\n",
    "Escribe un programa que emita la advertencia o información correcta a la gente de la Tierra, según la velocidad y el tamaño de un asteroide. Utiliza instrucciones if, else, y elif, así como los operadores and y or."
   ]
  },
  {
   "cell_type": "code",
   "execution_count": 17,
   "metadata": {},
   "outputs": [
    {
     "name": "stdout",
     "output_type": "stream",
     "text": [
      "Vamos a morir!\n"
     ]
    }
   ],
   "source": [
    "velocidad=25\n",
    "tamaño=40\n",
    "if velocidad>25 and tamaño>25:\n",
    "    print(\"Vamos a morir!\")\n",
    "elif velocidad>=25 :\n",
    "    \n",
    "    print(\"Hay una luz en el cielo\")\n",
    "elif tamaño<25:\n",
    " \n",
    "    print(\"No pasa nada \")\n",
    "else:\n",
    "    print(\"No hay novedades\")\n"
   ]
  }
 ],
 "metadata": {
  "interpreter": {
   "hash": "12696f2b993e2eec275bc275c659486dc4c117a44e14383bf381215c84734e06"
  },
  "kernelspec": {
   "display_name": "Python 3.10.0 64-bit",
   "language": "python",
   "name": "python3"
  },
  "language_info": {
   "codemirror_mode": {
    "name": "ipython",
    "version": 3
   },
   "file_extension": ".py",
   "mimetype": "text/x-python",
   "name": "python",
   "nbconvert_exporter": "python",
   "pygments_lexer": "ipython3",
   "version": "3.10.0"
  },
  "orig_nbformat": 4
 },
 "nbformat": 4,
 "nbformat_minor": 2
}
